{
 "cells": [
  {
   "cell_type": "markdown",
   "metadata": {},
   "source": [
    "**UNIVERSIDADE LUSÓFONA DE HUMANIDADES E TECNOLOGIAS**\n",
    "\n",
    "# Programação Web -  Lab. 8: Python\n",
    "\n",
    "* Estes exercícios estão reidgidos em forma de tutorial para exercitar conceitos chave do Python associados com sets e dicionários. \n",
    "* Consulte os slides se tiver dúvidas. Estes contêm toda a matéria necessária para realizar estes exercícios.\n",
    "* Consulte os [video-tutoriais](https://educast.fccn.pt/vod/channels/1fzfn2fjbd?locale=en) curtos que explicam conceitos específicos do Python."
   ]
  },
  {
   "cell_type": "markdown",
   "metadata": {
    "id": "cecSdetMJ8dx"
   },
   "source": [
    "# 0. Sets\n",
    "\n",
    "[sets: video-tutorial (5 min)](https://educast.fccn.pt/vod/clips/2h0d4s8ob4/desktop.mp4?locale=pt)\n",
    "\n",
    "Num infantário perguntaram às crianças qual a prenda de Natal que queriam. Resultou na seguinte lista:"
   ]
  },
  {
   "cell_type": "code",
   "execution_count": 10,
   "metadata": {
    "id": "-Y8M2yLQJ8d3"
   },
   "outputs": [],
   "source": [
    "lista_brinquedos = ['bola', 'boneca', 'carro', 'boneca', 'boneca', 'bola', 'boneca', 'carro', \n",
    "                    'boneca', 'boneca', 'pião', 'bola', 'boneca', 'carro', 'boneca', 'boneca', \n",
    "                    'bola', 'boneca', 'carro', 'boneca', 'boneca', 'bola', 'carro', 'bola', \n",
    "                    'carro', 'boneca', 'boneca', 'carro', 'carro', 'carro']"
   ]
  },
  {
   "cell_type": "markdown",
   "metadata": {
    "id": "9dc7CSF9J8d5"
   },
   "source": [
    "1 Calcule quantos brinquedos existem"
   ]
  },
  {
   "cell_type": "code",
   "execution_count": 11,
   "metadata": {
    "id": "086YZS7pJ8d6"
   },
   "outputs": [
    {
     "name": "stdout",
     "output_type": "stream",
     "text": [
      "Total de brinquedos = 30\n",
      "Exitem 4 brinquedos unicos na lista.\n"
     ]
    }
   ],
   "source": [
    "brinquedos = set(lista_brinquedos)\n",
    "\n",
    "print(f\"Total de brinquedos = {len(lista_brinquedos)}\")\n",
    "print(f\"Exitem {len(brinquedos)} brinquedos unicos na lista.\")"
   ]
  },
  {
   "cell_type": "markdown",
   "metadata": {
    "id": "9dc7CSF9J8d5"
   },
   "source": [
    "2 Crie o set de brinquedos pretendidos\n",
    "\n",
    "Resultado esperado: `{'bola', 'boneca', 'carro', 'pião'}` \n",
    "\n",
    "Nota: o resultado pode estar noutra ordem pois um set é um conjunto onde os elementos não têm uma posição como nas sequências!"
   ]
  },
  {
   "cell_type": "code",
   "execution_count": 10,
   "metadata": {
    "id": "086YZS7pJ8d6"
   },
   "outputs": [
    {
     "name": "stdout",
     "output_type": "stream",
     "text": [
      "{'bola', 'carro', 'pião', 'boneca'}\n"
     ]
    }
   ],
   "source": [
    "print(brinquedos)"
   ]
  },
  {
   "cell_type": "markdown",
   "metadata": {
    "id": "NpKtoa9LJ8d7"
   },
   "source": [
    "3. Crie o set dos brinquedos pretendidos recorrendo a uma compreensão."
   ]
  },
  {
   "cell_type": "code",
   "execution_count": 12,
   "metadata": {
    "id": "7fZSYcwIJ8d7"
   },
   "outputs": [
    {
     "name": "stdout",
     "output_type": "stream",
     "text": [
      "{'boneca', 'pião', 'bola', 'carro'}\n"
     ]
    }
   ],
   "source": [
    "brinquedos_pretendidos = {brinquedo for brinquedo in lista_brinquedos}\n",
    "\n",
    "print(brinquedos_pretendidos)"
   ]
  },
  {
   "cell_type": "markdown",
   "metadata": {
    "id": "jZWABtadJ8d7"
   },
   "source": [
    "4. Itere pelo set de brinquedos, imprimindo o seu nome e a quantidade de brinquedos desse tipo existentes na lista. Para tal, utilize o método `count()` para contar a frequenciai de cada brinquedo na lista de brinquedos. Exemplo do resultado esperado:\n",
    "\n",
    "```\n",
    "boneca: 14\n",
    "bola: 6\n",
    "pião: 1\n",
    "carro: 9\n",
    "```\n",
    "\n",
    "Nota: o resultado pode estar noutra ordem pois um set é um conjunto onde os elementos não têm uma posição como nas sequências!"
   ]
  },
  {
   "cell_type": "code",
   "execution_count": 22,
   "metadata": {},
   "outputs": [
    {
     "name": "stdout",
     "output_type": "stream",
     "text": [
      " bola: 6\n",
      " carro: 9\n",
      " pião: 1\n",
      " boneca: 14\n"
     ]
    }
   ],
   "source": [
    "for b in brinquedos:\n",
    "    print(f\" {b}: {lista_brinquedos.count(b)}\")\n",
    "    \n"
   ]
  },
  {
   "cell_type": "markdown",
   "metadata": {},
   "source": [
    "Para saber a quantidade de ocorrencias de um determinado brinquedo, pode usar a seguinte instrução: \n",
    "\n",
    "`lista_brinquedos.count('boneca')`\n",
    "\n",
    "Experimente-a para ver quantas bonecas existem."
   ]
  },
  {
   "cell_type": "code",
   "execution_count": 14,
   "metadata": {},
   "outputs": [
    {
     "data": {
      "text/plain": [
       "14"
      ]
     },
     "execution_count": 14,
     "metadata": {},
     "output_type": "execute_result"
    }
   ],
   "source": [
    "lista_brinquedos.count('boneca')"
   ]
  },
  {
   "cell_type": "markdown",
   "metadata": {
    "id": "jZWABtadJ8d7"
   },
   "source": [
    "5. Itere pelo set de brinquedos, imprimindo o seu nome e a quantidade de brinquedos desse tipo existentes na lista. Para tal, utilize o método `count()` para contar as ocorrências de cada brinquedo na lista de brinquedos. Exemplo do resultado esperado:\n",
    "\n",
    "```\n",
    "Existem 14 bonecas\n",
    "Existem 6 bolas\n",
    "Existe 1 pião\n",
    "Existem 9 carros\n",
    "```\n",
    "\n",
    "Deverá garantir que a frase diferencia quando existe apenas uma ocorrencia (frase no singular), ou mais do que uma ocorrência (plural).\n",
    "\n",
    "Nota: o resultado pode estar noutra ordem pois um set é um conjunto onde os elementos não têm uma posição como nas sequências!"
   ]
  },
  {
   "cell_type": "code",
   "execution_count": 34,
   "metadata": {
    "id": "aa1jzFccJ8d8",
    "outputId": "8efe71d6-0d7c-4146-b6cf-677132a73304"
   },
   "outputs": [
    {
     "name": "stdout",
     "output_type": "stream",
     "text": [
      "Existem 14 bonecas \n",
      "Existe 1 pião \n",
      "Existem 6 bolas \n",
      "Existem 9 carros \n"
     ]
    }
   ],
   "source": [
    "for b in brinquedos:\n",
    "    if lista_brinquedos.count(b) == 1:\n",
    "        plural1 = \"\"\n",
    "        plural2 = \"\"\n",
    "    else:\n",
    "        plural1 = \"m\"\n",
    "        plural2 = \"s\"\n",
    "    print(f\"Existe{plural1} {lista_brinquedos.count(b)} {b}{plural2} \")"
   ]
  },
  {
   "cell_type": "markdown",
   "metadata": {},
   "source": [
    "# 1. Jantar\n",
    "\n",
    "[Sets e dicionarios: video-tutorial (4 min)](https://educast.fccn.pt/vod/clips/2loqfocen7/desktop.mp4?locale=pt)\n",
    "\n",
    "Foi a um jantar de curso e havia tres pratos. Foi circulado um papel onde as pessoas foram inserindo a sua escolha, resultando na seguinte lista:"
   ]
  },
  {
   "cell_type": "code",
   "execution_count": 3,
   "metadata": {},
   "outputs": [],
   "source": [
    "pratos = [\"carne\", 'peixe', 'vegetariano', 'peixe', \n",
    "          'vegetariano', 'vegetariano', 'peixe', 'carne',\n",
    "          'vegetariano', 'vegetariano', 'peixe', 'peixe', \n",
    "          'carne', 'peixe', 'carne', 'vegetariano']"
   ]
  },
  {
   "cell_type": "markdown",
   "metadata": {},
   "source": [
    "1. Calcule o numero total de pratos pedidos"
   ]
  },
  {
   "cell_type": "code",
   "execution_count": 2,
   "metadata": {},
   "outputs": [
    {
     "name": "stdout",
     "output_type": "stream",
     "text": [
      "Total de pratos pedidos = 16\n"
     ]
    }
   ],
   "source": [
    "num_pratos = len(pratos)\n",
    "\n",
    "print(f\"Total de pratos pedidos = {num_pratos}\")\n"
   ]
  },
  {
   "cell_type": "markdown",
   "metadata": {},
   "source": [
    "2. Crie o set pratos, com o conjunto de pratos que foram pedidos"
   ]
  },
  {
   "cell_type": "code",
   "execution_count": 4,
   "metadata": {},
   "outputs": [
    {
     "name": "stdout",
     "output_type": "stream",
     "text": [
      "{'vegetariano', 'peixe', 'carne'}\n"
     ]
    }
   ],
   "source": [
    "set_pratos = set(pratos)\n",
    "print(set_pratos)"
   ]
  },
  {
   "cell_type": "markdown",
   "metadata": {},
   "source": [
    "3. Diga quantos pratos diferentes existem"
   ]
  },
  {
   "cell_type": "code",
   "execution_count": 8,
   "metadata": {},
   "outputs": [
    {
     "name": "stdout",
     "output_type": "stream",
     "text": [
      "Existem 3 diferentes\n"
     ]
    }
   ],
   "source": [
    "print(f\"Existem {len(set_pratos)} diferentes\")"
   ]
  },
  {
   "cell_type": "markdown",
   "metadata": {},
   "source": [
    "4. Crie um dicionário de frequências de cada um dos pratos"
   ]
  },
  {
   "cell_type": "code",
   "execution_count": 5,
   "metadata": {},
   "outputs": [
    {
     "name": "stdout",
     "output_type": "stream",
     "text": [
      "{'vegetariano': 6, 'peixe': 6, 'carne': 4}\n"
     ]
    }
   ],
   "source": [
    "frequencias_pratos = {}\n",
    "\n",
    "for p in set(pratos):\n",
    "    count = pratos.count(p)\n",
    "    frequencias_pratos[p] = count\n",
    "    \n",
    "print(frequencias_pratos)\n"
   ]
  },
  {
   "cell_type": "markdown",
   "metadata": {},
   "source": [
    "5. Considere o menu do restaurante:\n",
    "* vegetariano: 10.3\n",
    "* carne: 13.2\n",
    "* crudivero: 14.2\n",
    "* peixe: 12.5\n",
    "* marisco: 17.5\n",
    "* vegan: 34\n",
    "\n",
    "Crie um dicionário de preços"
   ]
  },
  {
   "cell_type": "code",
   "execution_count": 6,
   "metadata": {},
   "outputs": [
    {
     "name": "stdout",
     "output_type": "stream",
     "text": [
      "{'vegetariano': 10.3, 'carne': 13.2, 'crudivero': 14.2, 'peixe': 12.5, 'marisco': 17.5, 'vegan': 34}\n"
     ]
    }
   ],
   "source": [
    "pratos_restaurante = {\n",
    "    \"vegetariano\": 10.3,\n",
    "    \"carne\": 13.2,\n",
    "    \"crudivero\": 14.2,\n",
    "    \"peixe\": 12.5,\n",
    "    \"marisco\": 17.5,\n",
    "    \"vegan\": 34\n",
    "}\n",
    "\n",
    "print(pratos_restaurante)\n"
   ]
  },
  {
   "cell_type": "markdown",
   "metadata": {},
   "source": [
    "6. Crie um programa que: \n",
    "* apresenta ao utilizador o conjunto de pratos disponíveis.  \n",
    "* pede ao utilizador para escolher um prato\n",
    "* o programa apresenta o preço do prato\n",
    "\n",
    "\n",
    "Construa um conjunto de funções para tornar o código mais modular."
   ]
  },
  {
   "cell_type": "code",
   "execution_count": 7,
   "metadata": {},
   "outputs": [
    {
     "name": "stdout",
     "output_type": "stream",
     "text": [
      "MENU:\n",
      "1. vegetariano\n",
      "2. carne\n",
      "3. crudivero\n",
      "4. peixe\n",
      "5. marisco\n",
      "6. vegan\n",
      "Escolha um prato: vegan\n",
      "O preço do prato vegan é 34\n"
     ]
    }
   ],
   "source": [
    "def apresentar_pratos(pratos_restaurante):\n",
    "    menu_entry = 1\n",
    "    print(\"MENU:\")\n",
    "    for i in pratos_restaurante:\n",
    "        print(f\"{menu_entry}. {i}\")\n",
    "        menu_entry += 1\n",
    "    #print(pratos_restaurante.keys())\n",
    "\n",
    "def escolher_prato():\n",
    "    prato_escolhido = input(\"Escolha um prato: \")\n",
    "    return prato_escolhido\n",
    "\n",
    "def mostrar_preco(prato_escolhido, pratos_restaurante):\n",
    "    if prato_escolhido in pratos_restaurante:\n",
    "        print(f\"O preço do prato {prato_escolhido} é {pratos_restaurante.get(prato_escolhido)}\")\n",
    "    else:\n",
    "        print(f\"Desculpe, o prato {prato_escolhido} não está disponível\")\n",
    "\n",
    "\n",
    "apresentar_pratos(pratos_restaurante)\n",
    "prato_escolhido = escolher_prato()\n",
    "mostrar_preco(prato_escolhido, pratos_restaurante)"
   ]
  },
  {
   "cell_type": "markdown",
   "metadata": {},
   "source": [
    "7. Calcule o valor da conta final, iterando pela lista de pratos"
   ]
  },
  {
   "cell_type": "code",
   "execution_count": 11,
   "metadata": {},
   "outputs": [
    {
     "name": "stdout",
     "output_type": "stream",
     "text": [
      "Valor da conta final: 189.59999999999997\n"
     ]
    }
   ],
   "source": [
    "total = 0\n",
    "for prato in pratos:\n",
    "    total += pratos_restaurante[prato]\n",
    "print(f\"Valor da conta final: {total}\")\n"
   ]
  },
  {
   "cell_type": "markdown",
   "metadata": {},
   "source": [
    "8. Calcule o valor da conta final, iterando pelos elementos do dicionário"
   ]
  },
  {
   "cell_type": "code",
   "execution_count": 13,
   "metadata": {},
   "outputs": [
    {
     "name": "stdout",
     "output_type": "stream",
     "text": [
      "Valor da conta final: 189.60000000000002\n"
     ]
    }
   ],
   "source": [
    "total = 0\n",
    "for prato, frequencia in frequencias_pratos.items():\n",
    "    total += pratos_restaurante[prato] * frequencia\n",
    "print(f\"Valor da conta final: {total}\")\n"
   ]
  },
  {
   "cell_type": "markdown",
   "metadata": {},
   "source": [
    "9. Restaurante \n",
    "\n",
    "Cria um dicionario pedido e itera pedidos para apresentar os pratos e quantidades escolhidas e apresenta a conta"
   ]
  },
  {
   "cell_type": "code",
   "execution_count": 9,
   "metadata": {},
   "outputs": [
    {
     "name": "stdout",
     "output_type": "stream",
     "text": [
      "MENU:\n",
      "1. vegetariano\n",
      "2. carne\n",
      "3. crudivero\n",
      "4. peixe\n",
      "5. marisco\n",
      "6. vegan\n",
      "Insira o seu pedido ou insira 'done'\n",
      "crudivero\n",
      "Quantos pratos de crudivero vão ser? 1\n",
      "Insira o seu pedido ou insira 'done'\n",
      "peixe\n",
      "Quantos pratos de peixe vão ser? 5\n",
      "Insira o seu pedido ou insira 'done'\n",
      "vegetariano\n",
      "Quantos pratos de vegetariano vão ser? 5\n",
      "Insira o seu pedido ou insira 'done'\n",
      "marisco\n",
      "Quantos pratos de marisco vão ser? 10\n",
      "Insira o seu pedido ou insira 'done'\n",
      "carne\n",
      "Quantos pratos de carne vão ser? 2\n",
      "Insira o seu pedido ou insira 'done'\n",
      "done\n",
      "1 x crudivero: 14.2\n",
      "5 x peixe: 62.5\n",
      "5 x vegetariano: 51.5\n",
      "10 x marisco: 175.0\n",
      "2 x carne: 26.4\n",
      "Total: 329.59999999999997\n"
     ]
    }
   ],
   "source": [
    "pedidos = {}\n",
    "max_pedidos = 5\n",
    "quantidade = 0\n",
    "\n",
    "apresentar_pratos(pratos_restaurante)\n",
    "\n",
    "while True:\n",
    "    pedido = input(\"Insira o seu pedido ou insira 'done'\\n\")\n",
    "    if pedido == 'done':\n",
    "        break\n",
    "    elif pedido in pratos_restaurante:\n",
    "        quantidade = int(input(f\"Quantos pratos de {pedido} vão ser? \"))\n",
    "        pedidos[pedido] = pedidos.get(pedido, 0) + quantidade\n",
    "    else:\n",
    "        print(f\"Não temos {pedido} no menu.\")\n",
    "\n",
    "total = 0\n",
    "for prato, quantidade in pedidos.items():\n",
    "    preco = pratos_restaurante[prato]\n",
    "    total += preco * quantidade\n",
    "    print(f\"{quantidade} x {prato}: {preco * quantidade}\")\n",
    "\n",
    "print(f\"Total: {total}\")"
   ]
  },
  {
   "cell_type": "markdown",
   "metadata": {
    "id": "hbZyHblFJ8d-"
   },
   "source": [
    "\n",
    "# 2. Dicionários\n",
    "\n",
    "[Iteração por dicionarios: video-tutorial (5 min)](https://educast.fccn.pt/vod/clips/6rv7j9es0/desktop.mp4?locale=pt)\n",
    "\n",
    "Considere a lista de brinquedos em baixo"
   ]
  },
  {
   "cell_type": "code",
   "execution_count": 14,
   "metadata": {
    "id": "BpjjFg0mJ8d_"
   },
   "outputs": [],
   "source": [
    "lista_brinquedos = ['bola', 'boneca', 'carro', 'boneca', 'boneca', 'bola', 'boneca', 'carro', \n",
    "                    'boneca', 'boneca', 'pião', 'bola', 'boneca', 'carro', 'boneca', 'boneca', \n",
    "                    'bola', 'boneca', 'carro', 'boneca', 'boneca', 'bola', 'carro', 'bola', \n",
    "                    'carro', 'boneca', 'boneca', 'carro', 'carro', 'carro']"
   ]
  },
  {
   "cell_type": "markdown",
   "metadata": {
    "id": "_tg08suzJ8d_"
   },
   "source": [
    "2.1 Com base na lista anterior e recorrendo ao set, crie um dicionario, recorrendo a um ciclo ```for```, em que, para cada brinquedo (chave), guarda a quantidade de brinquedos (valor)\n",
    "\n",
    "Resultado esperado: `{'bola': 6, 'boneca': 14, 'carro': 9, 'pião': 1}`"
   ]
  },
  {
   "cell_type": "code",
   "execution_count": 15,
   "metadata": {
    "id": "tGCK-8RiJ8eA"
   },
   "outputs": [
    {
     "name": "stdout",
     "output_type": "stream",
     "text": [
      "{'bola': 6, 'boneca': 14, 'carro': 9, 'pião': 1}\n"
     ]
    }
   ],
   "source": [
    "\n",
    "brinquedos_dict = {}\n",
    "for brinquedo in lista_brinquedos:\n",
    "    if brinquedo in brinquedos_dict:\n",
    "        brinquedos_dict[brinquedo] += 1\n",
    "    else:\n",
    "        brinquedos_dict[brinquedo] = 1\n",
    "print(brinquedos_dict)\n"
   ]
  },
  {
   "cell_type": "markdown",
   "metadata": {
    "id": "vuqdMutUJ8eA"
   },
   "source": [
    "2.2 Itere pelos elementos do dicionario, imprimindo as chaves do dicionário (utilize o método `.keys()`). Formate devidamente as impressões para chegar um resultado no seguinte formato:\n",
    "\n",
    "```\n",
    "brinquedos: bola, boneca, carro, pião.\n",
    "```"
   ]
  },
  {
   "cell_type": "code",
   "execution_count": 16,
   "metadata": {
    "id": "x4hLYJnbJ8eA"
   },
   "outputs": [
    {
     "name": "stdout",
     "output_type": "stream",
     "text": [
      "bola, boneca, carro, pião."
     ]
    }
   ],
   "source": [
    "for i, key in enumerate(brinquedos_dict.keys()):\n",
    "    if i == len(brinquedos_dict) - 1:\n",
    "        print(key , end=\".\")\n",
    "    else:\n",
    "        print(key , end=\", \")\n"
   ]
  },
  {
   "cell_type": "markdown",
   "metadata": {
    "id": "tBpTem9yJ8eB"
   },
   "source": [
    "2.3 Itere pelos elementos do dicionario, imprimindo apenas os valores do dicionário (utilize o método `.values()`) e apresentando também o numero total de brinquedos. Formate devidamente as impressões para chegar um resultado no seguinte formato:\n",
    "```\n",
    "Quantidades: 6, 14, 9, 1\n",
    "Total de brinquedos: 30\n",
    "```"
   ]
  },
  {
   "cell_type": "code",
   "execution_count": 17,
   "metadata": {
    "id": "5_q43Aq9J8eB"
   },
   "outputs": [
    {
     "name": "stdout",
     "output_type": "stream",
     "text": [
      "Quantidades: 6, 14, 9, 1. \n",
      "Total de brinquedos: 30\n"
     ]
    }
   ],
   "source": [
    "total = 0\n",
    "i = 0\n",
    "print(\"Quantidades: \" , end=\"\")\n",
    "for value in brinquedos_dict.values():\n",
    "    if i == len(brinquedos_dict) - 1:\n",
    "        print(str(value) + \". \")\n",
    "    else:\n",
    "        print(value, end=\", \")\n",
    "    total += value\n",
    "    i += 1\n",
    "print(\"Total de brinquedos:\", total)\n"
   ]
  },
  {
   "cell_type": "markdown",
   "metadata": {
    "id": "tbWTrqWMJ8eB"
   },
   "source": [
    "2.4 Itere pelos elementos do dicionario, imprimindo as chaves e os valores do dicionário (utilize o método `.items()`).\n",
    "\n",
    " Exemplo do resultado esperado:\n",
    "\n",
    "```\n",
    "Existem 14 bonecas\n",
    "Existem 6 bolas\n",
    "Existe 1 pião\n",
    "Existem 9 carros\n",
    "```\n",
    "\n",
    "Deverá garantir que a frase diferencia quando existe apenas uma ocorrencia (frase no singular), ou mais do que uma ocorrência (plural)."
   ]
  },
  {
   "cell_type": "code",
   "execution_count": 18,
   "metadata": {
    "id": "fv2nybfKJ8eB"
   },
   "outputs": [
    {
     "name": "stdout",
     "output_type": "stream",
     "text": [
      "Existem 6 bolas\n",
      "Existem 14 bonecas\n",
      "Existem 9 carros\n",
      "Existe 1 pião\n"
     ]
    }
   ],
   "source": [
    "\n",
    "for key, value in brinquedos_dict.items():\n",
    "    if value == 1:\n",
    "        print(\"Existe\", value, key)\n",
    "    else:\n",
    "        print(\"Existem\", value, key + \"s\")\n",
    "        "
   ]
  },
  {
   "cell_type": "markdown",
   "metadata": {
    "id": "MhVAvgNLJ8eC"
   },
   "source": [
    "2.5 Transforme os items do dicionario (lembre-se do método para obter os items...) numa lista de tuplos, com a função `list`.\n",
    "\n",
    "Resultado esperado: `[('bola', 6), ('boneca', 14), ('carro', 9)]`"
   ]
  },
  {
   "cell_type": "code",
   "execution_count": 19,
   "metadata": {
    "id": "PYJa4RwyJ8eC"
   },
   "outputs": [
    {
     "name": "stdout",
     "output_type": "stream",
     "text": [
      "[('bola', 6), ('boneca', 14), ('carro', 9), ('pião', 1)]\n"
     ]
    }
   ],
   "source": [
    "\n",
    "\n",
    "brinquedos_list = list(brinquedos_dict.items())\n",
    "print(brinquedos_list)\n"
   ]
  },
  {
   "cell_type": "markdown",
   "metadata": {
    "id": "kaZDERu3J8eC"
   },
   "source": [
    "2.6 Como o dicionário não é ordenável, este é convertido numa lista, que depois pode ser ordenada. Ordene decrescentemente a lista, pela quantidade de brinquedos, imprimindo de acordo com o formato em baixo:\n",
    "\n",
    "```\n",
    "Existem 14 bonecas\n",
    "Existem 9 carros\n",
    "Existem 6 bolas\n",
    "Existe 1 pião\n",
    "```"
   ]
  },
  {
   "cell_type": "code",
   "execution_count": 20,
   "metadata": {
    "id": "59hnNIlKJ8eD"
   },
   "outputs": [
    {
     "name": "stdout",
     "output_type": "stream",
     "text": [
      "Existem 14 bonecas\n",
      "Existem 9 carros\n",
      "Existem 6 bolas\n",
      "Existe 1 pião\n"
     ]
    }
   ],
   "source": [
    "\n",
    "brinquedos_list.sort(key=lambda x: x[1], reverse=True)\n",
    "for item in brinquedos_list:\n",
    "    if item[1] == 1:\n",
    "        print(\"Existe\", item[1], item[0])\n",
    "    else:\n",
    "        print(\"Existem\", item[1], item[0] + \"s\")\n"
   ]
  },
  {
   "cell_type": "markdown",
   "metadata": {
    "id": "xXA4KlHsJ8eD"
   },
   "source": [
    "2.7 Como o dicionário não é ordenável, este é convertido numa lista, que depois pode ser ordenada. Ordene lista alfabeticamente pelo nome do brinquedo, imprimindo de acordo com o formato em baixo:\n",
    "\n",
    "```\n",
    "bonecas: 14\n",
    "carros: 9\n",
    "bolas: 6\n",
    "pião: 1\n",
    "```"
   ]
  },
  {
   "cell_type": "code",
   "execution_count": 21,
   "metadata": {
    "id": "VeQ-qNa2J8eD"
   },
   "outputs": [
    {
     "name": "stdout",
     "output_type": "stream",
     "text": [
      "bola: 6\n",
      "boneca: 14\n",
      "carro: 9\n",
      "pião: 1\n"
     ]
    }
   ],
   "source": [
    "\n",
    "\n",
    "brinquedos_list.sort(key=lambda x: x[0])\n",
    "for item in brinquedos_list:\n",
    "    print(item[0] + \":\", item[1])\n"
   ]
  },
  {
   "cell_type": "markdown",
   "metadata": {
    "id": "Hpk1B5eLJ8eD"
   },
   "source": [
    "# 3. Criando dicionários\n",
    "\n",
    "[Dicionarios e suas operações: video-tutorial (6 min)](https://educast.fccn.pt/vod/clips/1qwauls8yh/desktop.mp4?locale=pt)\n",
    "\n",
    "3.1 Crie um dicionário de idades, onde pede repetidamente ao utilizador para inserir um nome e uma idade, que armazenará num dicionário. Deverá parar a inserção quando o utilizador especificar como nome a palavra 'fim', imprimindo o dicionário resultante. Exemplo de funcionamento:\n",
    "\n",
    "```\n",
    "Insira um nome (ou 'fim' para terminar): Mario\n",
    "Insira a idade do Mario: 13\n",
    "Insira um nome (ou 'fim' para terminar): Ze\n",
    "Insira a idade do Ze: 11\n",
    "Insira um nome (ou 'fim' para terminar): Rui\n",
    "Insira a idade do Rui: 15\n",
    "Insira um nome (ou 'fim' para terminar): fim\n",
    "\n",
    "Dicionário criado: {'Mario': 13, 'Ze': 11, 'Rui': 15}\n",
    "```"
   ]
  },
  {
   "cell_type": "code",
   "execution_count": 22,
   "metadata": {
    "id": "vQjw_EEwJ8eD"
   },
   "outputs": [
    {
     "name": "stdout",
     "output_type": "stream",
     "text": [
      "Insira um nome (ou 'fim' para terminar): Mario\n",
      "Insira a idade do Mario: 13\n",
      "Insira um nome (ou 'fim' para terminar): Ze\n",
      "Insira a idade do Ze: 11\n",
      "Insira um nome (ou 'fim' para terminar): Rui\n",
      "Insira a idade do Rui: 15\n",
      "Insira um nome (ou 'fim' para terminar): fim\n",
      "Dicionário criado: {'Mario': 13, 'Ze': 11, 'Rui': 15}\n"
     ]
    }
   ],
   "source": [
    "\n",
    "idades = {}\n",
    "while True:\n",
    "    nome = input(\"Insira um nome (ou 'fim' para terminar): \")\n",
    "    if nome == 'fim':\n",
    "        break\n",
    "    idade = int(input(f\"Insira a idade do {nome}: \"))\n",
    "    idades[nome] = idade\n",
    "print(\"Dicionário criado:\", idades)\n"
   ]
  },
  {
   "cell_type": "markdown",
   "metadata": {
    "id": "l8IOQ3OhJ8eD"
   },
   "source": [
    "3.2 Com base no dicionário criado, escreva um programa que peça ao utilizador para inserir um nome. O programa deverá indicar a idade dessa pessoa. Repita enquanto não for inserido 'fim'. Caso o nome não conste no dicionário, imprima uma mensagem adequada. PAra tal, antes de consultar o dicionário deverá inquirir se a chave existe no dicionario com o operador `in` (exemplo de utilização: `if amigo in dic_amigos`). Exemplo de funcionamento:\n",
    "\n",
    "```\n",
    "Insira um nome (ou 'fim' para terminar): Ze\n",
    "O Ze tem 11 anos\n",
    "Insira um nome (ou 'fim' para terminar): Luis\n",
    "O Luis não consta no dicionário de amigos\n",
    "Insira um nome (ou 'fim' para terminar): fim\n",
    "Obrigado\n",
    "```"
   ]
  },
  {
   "cell_type": "code",
   "execution_count": 23,
   "metadata": {
    "id": "6T53SzflJ8eE"
   },
   "outputs": [
    {
     "name": "stdout",
     "output_type": "stream",
     "text": [
      "Insira um nome (ou 'fim' para terminar): Rui\n",
      "O Rui tem 15 anos\n",
      "Insira um nome (ou 'fim' para terminar): Ze\n",
      "O Ze tem 11 anos\n",
      "Insira um nome (ou 'fim' para terminar): Mario\n",
      "O Mario tem 13 anos\n",
      "Insira um nome (ou 'fim' para terminar): fim\n",
      "Obrigado\n"
     ]
    }
   ],
   "source": [
    "\n",
    "while True:\n",
    "    nome = input(\"Insira um nome (ou 'fim' para terminar): \")\n",
    "    if nome == 'fim':\n",
    "        break\n",
    "    if nome in idades:\n",
    "        print(f\"O {nome} tem {idades[nome]} anos\")\n",
    "    else:\n",
    "        print(f\"O {nome} não consta no dicionário de amigos\")\n",
    "print(\"Obrigado\")\n",
    "\n"
   ]
  },
  {
   "cell_type": "markdown",
   "metadata": {
    "id": "OoeFEOrRJ8eE"
   },
   "source": [
    "# 4 Explorando um dicionário\n",
    "\n",
    "Considere o dicionário brinquedos em baixo que tem o inventário dos brinquedos de várias crianças:\n",
    "* Manuel tem um carro e uma bola\n",
    "* Maria tem uma boneca e uma bola\n",
    "* Luís tem uma bola, boneca e carro\n",
    "\n",
    "Exemplo de um dicionário."
   ]
  },
  {
   "cell_type": "code",
   "execution_count": 24,
   "metadata": {
    "id": "43AAAEGCJ8eE"
   },
   "outputs": [],
   "source": [
    "brinquedos = {\n",
    "    \"Manuel\": [\"carro\", \"bola\"],\n",
    "    \"Maria\": [\"boneca\", \"bola\"],\n",
    "    \"Luis\": [\"bola\", \"boneca\", \"carro\"]\n",
    "    }"
   ]
  },
  {
   "cell_type": "markdown",
   "metadata": {
    "id": "BxfhxoNtJ8eE"
   },
   "source": [
    "4.1 Considerando que o dicionário segue a estrutura anterior, escreva uma instrução que compute quantas crianças existem no dicionário\n",
    "\n",
    "Resultado esperado: `Existem 3 crianças`"
   ]
  },
  {
   "cell_type": "code",
   "execution_count": 25,
   "metadata": {
    "id": "3WVGPM7zJ8eE"
   },
   "outputs": [
    {
     "name": "stdout",
     "output_type": "stream",
     "text": [
      "Existem 3 crianças\n"
     ]
    }
   ],
   "source": [
    "\n",
    "print(f\"Existem {len(brinquedos)} crianças\")\n"
   ]
  },
  {
   "cell_type": "markdown",
   "metadata": {
    "id": "fQe9KZvPJ8eE"
   },
   "source": [
    "4.2 Considerando que o dicionário segue a estrutura anterior, imprima a informação de quantos brinquedos cada criança tem, iterando com um ciclo for pelos items do dicionário, e usando uma string formatada.\n",
    "\n",
    "Resultado esperado:\n",
    "\n",
    "```\n",
    "Manuel: 2 brinquedos \n",
    "Maria: 2 brinquedos \n",
    "Luis: 3 brinquedos\n",
    "```"
   ]
  },
  {
   "cell_type": "code",
   "execution_count": 26,
   "metadata": {
    "id": "4FAlFfhkJ8eF"
   },
   "outputs": [
    {
     "name": "stdout",
     "output_type": "stream",
     "text": [
      "Manuel: 2 brinquedos\n",
      "Maria: 2 brinquedos\n",
      "Luis: 3 brinquedos\n"
     ]
    }
   ],
   "source": [
    "\n",
    "for nome, lista_brinquedos in brinquedos.items():\n",
    "    print(f\"{nome}: {len(lista_brinquedos)} brinquedos\")\n"
   ]
  },
  {
   "cell_type": "markdown",
   "metadata": {
    "id": "rKy_5teCJ8eF"
   },
   "source": [
    "4.3 Imaginando que conhece a estrutura mas não o conteúdo do dicionário, verifique a quantidade total de brinquedos existente.\n",
    "\n",
    "Exemplo de resultado: `Existem 7 brinquedos`"
   ]
  },
  {
   "cell_type": "code",
   "execution_count": 27,
   "metadata": {
    "id": "imwLcTrkJ8eF"
   },
   "outputs": [
    {
     "name": "stdout",
     "output_type": "stream",
     "text": [
      "Existem 7 brinquedos\n"
     ]
    }
   ],
   "source": [
    "\n",
    "total_brinquedos = 0\n",
    "for lista_brinquedos in brinquedos.values():\n",
    "    total_brinquedos += len(lista_brinquedos)\n",
    "print(f\"Existem {total_brinquedos} brinquedos\")\n"
   ]
  },
  {
   "cell_type": "markdown",
   "metadata": {
    "id": "yZ9oUqQ0J8eF"
   },
   "source": [
    "4.4 crie um código que verifique se existe alguma criança com um carro"
   ]
  },
  {
   "cell_type": "code",
   "execution_count": 28,
   "metadata": {
    "id": "JrKy0yuFJ8eF"
   },
   "outputs": [
    {
     "name": "stdout",
     "output_type": "stream",
     "text": [
      "Existe pelo menos uma criança com um carro\n"
     ]
    }
   ],
   "source": [
    "\n",
    "for lista_brinquedos in brinquedos.values():\n",
    "    if 'carro' in lista_brinquedos:\n",
    "        print(\"Existe pelo menos uma criança com um carro\")\n",
    "        break\n",
    "        "
   ]
  },
  {
   "cell_type": "markdown",
   "metadata": {
    "id": "2BPzvcaTJ8eG"
   },
   "source": [
    "4.5 crie um código que indique os nomes das crianças que têm um carro.\n",
    "\n",
    "Resultado esperado: `Manuel Luis `"
   ]
  },
  {
   "cell_type": "code",
   "execution_count": 29,
   "metadata": {
    "id": "tzHxHy9CJ8eG"
   },
   "outputs": [
    {
     "name": "stdout",
     "output_type": "stream",
     "text": [
      "Manuel Luis "
     ]
    }
   ],
   "source": [
    "\n",
    "for nome, lista_brinquedos in brinquedos.items():\n",
    "    if 'carro' in lista_brinquedos:\n",
    "        print(nome,end=\" \")\n",
    "        "
   ]
  },
  {
   "cell_type": "markdown",
   "metadata": {
    "id": "VcjCe8mTJ8eG"
   },
   "source": [
    "4.6 crie um código que indique quantas crianças têm uma boneca\n",
    "\n",
    "Resultado esperado: `Existem 2 crianças com uma boneca`"
   ]
  },
  {
   "cell_type": "code",
   "execution_count": 30,
   "metadata": {
    "id": "AT4NOdPhJ8eG"
   },
   "outputs": [
    {
     "name": "stdout",
     "output_type": "stream",
     "text": [
      "Existem 2 crianças com uma boneca\n"
     ]
    }
   ],
   "source": [
    "\n",
    "total_criancas_com_boneca = 0\n",
    "for lista_brinquedos in brinquedos.values():\n",
    "    if 'boneca' in lista_brinquedos:\n",
    "        total_criancas_com_boneca += 1\n",
    "print(f\"Existem {total_criancas_com_boneca} crianças com uma boneca\")\n"
   ]
  },
  {
   "cell_type": "markdown",
   "metadata": {
    "id": "cdztO1ILJ8eG"
   },
   "source": [
    "4.7 crie uma instrução para adicionar um pião à lista de brinquedos do Manuel"
   ]
  },
  {
   "cell_type": "code",
   "execution_count": 31,
   "metadata": {
    "id": "F1CcgVAlJ8eG"
   },
   "outputs": [],
   "source": [
    "\n",
    "brinquedos['Manuel'].append('pião')\n",
    "\n",
    "#print(brinquedos)\n"
   ]
  },
  {
   "cell_type": "markdown",
   "metadata": {
    "id": "pyeJoT6-J8eG"
   },
   "source": [
    "4.8 remova a bola da lista de brinquedos do Manuel"
   ]
  },
  {
   "cell_type": "code",
   "execution_count": 32,
   "metadata": {
    "id": "dLuVHwSOJ8eG"
   },
   "outputs": [],
   "source": [
    "\n",
    "brinquedos['Manuel'].remove('bola')\n",
    "\n",
    "#print(brinquedos)\n"
   ]
  },
  {
   "cell_type": "markdown",
   "metadata": {},
   "source": [
    "# Classes\n",
    "\n",
    "Os automóveis mais recentes mostram a distância que é possível percorrer até ser necessário um reabastecimento. Pretende-se criar esta funcionalidade em Python através da classe automovel. Esta classe é construída indicando os seguintes atributos: \n",
    "* capacidade_combustivel, a capacidade do depósito.\n",
    "* quant_combustivel, a quantidade de combustível no depósito.\n",
    "* consumo, o consumo do automóvel em litros aos 100 km. \n",
    "\n",
    "A classe automovel apresenta também os seguintes métodos:\n",
    "* combustivel: devolve a quantidade de combustível no depósito;\n",
    "* autonomia: devolve o numero de km que é possível percorrer com o combustível no depósito;\n",
    "* abastece(n_litros): aumenta em n_litros o combustível no depósito e retorna a autonomia. Se este abastecimento exceder a capacidade do depósito, gera um erro e não aumenta a quantidade de combustível no depósito;\n",
    "* percorre(n_km) percorre n_km Km, desde que a quantidade de combustível no depósito o permita, em caso contrário gera um erro e o trajecto não é efectuado. Retorna a autonomia.\n",
    "\n",
    "Exemplo de interação da classe:\n",
    "```\n",
    ">>> a1 = automovel(60, 10, 15)\n",
    ">>> a1.autonomia()\n",
    "66\n",
    ">>> a1.abastece(45)\n",
    "366\n",
    ">>> a1.percorre(150)\n",
    "216\n",
    ">>> a1.percorre(250)\n",
    "-1\n",
    "```\n",
    "\n",
    "Faça uma demonstração da utilização desta classe, implementando o exemplo atrás."
   ]
  },
  {
   "cell_type": "code",
   "execution_count": 33,
   "metadata": {},
   "outputs": [],
   "source": []
  }
 ],
 "metadata": {
  "colab": {
   "name": "padc-exercicios-04.ipynb",
   "provenance": []
  },
  "kernelspec": {
   "display_name": "Python 3 (ipykernel)",
   "language": "python",
   "name": "python3"
  },
  "language_info": {
   "codemirror_mode": {
    "name": "ipython",
    "version": 3
   },
   "file_extension": ".py",
   "mimetype": "text/x-python",
   "name": "python",
   "nbconvert_exporter": "python",
   "pygments_lexer": "ipython3",
   "version": "3.9.2"
  }
 },
 "nbformat": 4,
 "nbformat_minor": 1
}
